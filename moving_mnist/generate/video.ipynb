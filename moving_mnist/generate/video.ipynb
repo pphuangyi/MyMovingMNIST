{
 "cells": [
  {
   "cell_type": "code",
   "execution_count": 1,
   "id": "1df0dfac-de31-4107-a68b-7cb5d29d3623",
   "metadata": {},
   "outputs": [],
   "source": [
    "import random\n",
    "from tqdm import tqdm\n",
    "from pathlib import Path\n",
    "import numpy as np\n",
    "import matplotlib.pyplot as plt\n",
    "from matplotlib.animation import ArtistAnimation\n",
    "\n",
    "from dataset import MnistDataloader"
   ]
  },
  {
   "cell_type": "markdown",
   "id": "f381291c-5282-45a9-b48a-45d49258fdd0",
   "metadata": {},
   "source": [
    "Load data"
   ]
  },
  {
   "cell_type": "code",
   "execution_count": 2,
   "id": "0f77a50b-0bcc-467f-9149-caa8c9ee0c72",
   "metadata": {},
   "outputs": [],
   "source": [
    "input_path = Path('./data')\n",
    "\n",
    "training_images_filepath = input_path/'train-images-idx3-ubyte/train-images-idx3-ubyte'\n",
    "training_labels_filepath = input_path/'train-labels-idx1-ubyte/train-labels-idx1-ubyte'\n",
    "\n",
    "test_images_filepath = input_path/'t10k-images-idx3-ubyte/t10k-images-idx3-ubyte'\n",
    "test_labels_filepath = input_path/'t10k-labels-idx1-ubyte/t10k-labels-idx1-ubyte'"
   ]
  },
  {
   "cell_type": "code",
   "execution_count": 3,
   "id": "6fcd8d3c-3449-4bcb-9784-74208f41da65",
   "metadata": {},
   "outputs": [
    {
     "name": "stdout",
     "output_type": "stream",
     "text": [
      "(60000, 28, 28)\n",
      "(60000,)\n",
      "(10000, 28, 28)\n",
      "(10000,)\n"
     ]
    }
   ],
   "source": [
    "mnist_dataloader = MnistDataloader(training_images_filepath, \n",
    "                                   training_labels_filepath, \n",
    "                                   test_images_filepath, \n",
    "                                   test_labels_filepath)\n",
    "(x_train, y_train), (x_test, y_test) = mnist_dataloader.load_data()\n",
    "print(x_train.shape)\n",
    "print(y_train.shape)\n",
    "print(x_test.shape)\n",
    "print(y_test.shape)"
   ]
  },
  {
   "cell_type": "markdown",
   "id": "c45460ce-71af-4248-b313-1adf37d88cf6",
   "metadata": {},
   "source": [
    "Assume that we there is a particle move on the integer points $\\in[0, m]$. Every unit time, it move to the right by $1$, but after it hit the $m$, it will reverse the direction of movement and moves to the left with the same speed. Assume that the particle starts at $0$, the following function calculates the location of particle as a function of time. "
   ]
  },
  {
   "cell_type": "markdown",
   "id": "d7323f56-1226-4547-8a6b-4f7b6d7d2b61",
   "metadata": {},
   "source": [
    "Now assume that the particle moves with speed $s$ and starts at $i$, the function becomes:"
   ]
  },
  {
   "cell_type": "code",
   "execution_count": 4,
   "id": "57c9d1bf-f8e6-458b-9ab9-c40c0b41bb4b",
   "metadata": {},
   "outputs": [],
   "source": [
    "def one_dim(time, interval_length, speed=1, initial_loc=0):\n",
    "    loc = initial_loc + time * speed\n",
    "    periodic_loc = loc % (2 * interval_length)\n",
    "    return interval_length - abs(periodic_loc - interval_length)\n",
    "one_dim = np.vectorize(one_dim)\n",
    "\n",
    "def two_dim(time, \n",
    "            height, width, \n",
    "            speed_ver, speed_hor, \n",
    "            initial_ver, initial_hor):\n",
    "    loc_ver = one_dim(time, height, speed_ver, initial_ver)\n",
    "    loc_hor = one_dim(time, width, speed_hor, initial_hor)\n",
    "    return loc_ver, loc_hor\n",
    "\n",
    "two_dim = np.vectorize(two_dim)"
   ]
  },
  {
   "cell_type": "code",
   "execution_count": 5,
   "id": "103bd841-ec19-4675-a232-4f1c68181ea9",
   "metadata": {},
   "outputs": [
    {
     "data": {
      "text/plain": [
       "<matplotlib.collections.PathCollection at 0x7f7727ebe1c0>"
      ]
     },
     "execution_count": 5,
     "metadata": {},
     "output_type": "execute_result"
    },
    {
     "data": {
      "image/png": "[encoded data removed]",
      "text/plain": [
       "<Figure size 360x360 with 1 Axes>"
      ]
     },
     "metadata": {
      "needs_background": "light"
     },
     "output_type": "display_data"
    }
   ],
   "source": [
    "height, width = 5, 5\n",
    "time = np.linspace(0, 4, 201)\n",
    "loc_ver, loc_hor = two_dim(time, height, width, 2, 2, 2, 4)\n",
    "\n",
    "fig, ax = plt.subplots(1, 1, figsize=(5, 5))\n",
    "\n",
    "ax.set_xlim(-.1, width + .1)\n",
    "ax.set_ylim(-.1, height + .1)\n",
    "\n",
    "ax.invert_yaxis()\n",
    "ax.set_aspect(1)\n",
    "plt.scatter(loc_hor, loc_ver, c=time, s=1)"
   ]
  },
  {
   "cell_type": "code",
   "execution_count": 6,
   "id": "9683a3ee-faa8-41c9-adf0-919f4aa9b22e",
   "metadata": {},
   "outputs": [],
   "source": [
    "class BlockTrail:\n",
    "    def __init__(self,\n",
    "                 block_height, \n",
    "                 block_width, \n",
    "                 frame_height, \n",
    "                 frame_width, \n",
    "                 speed_ver_range, \n",
    "                 speed_hor_range):\n",
    "        \n",
    "        self.block_height = block_height\n",
    "        self.block_width  = block_width\n",
    "        self.frame_height = frame_height\n",
    "        self.frame_width  = frame_width\n",
    "        \n",
    "        # the height and width of the bounding box of the top-left corner\n",
    "        self.height = frame_height - block_height\n",
    "        self.width = frame_width - block_width\n",
    "        \n",
    "        self.speed_ver_range = speed_ver_range\n",
    "        self.speed_hor_range = speed_hor_range\n",
    "        \n",
    "    def gen_random_trail_params(self, ):\n",
    "        \n",
    "        while True:\n",
    "            speed_ver = random.randint(-self.speed_ver_range, self.speed_ver_range)\n",
    "            speed_hor = random.randint(-self.speed_hor_range, self.speed_hor_range)\n",
    "            if speed_ver != 0 or speed_hor != 0:\n",
    "                break\n",
    "\n",
    "        # random initial location in the bounding box\n",
    "        initial_ver = random.randint(0, self.height)\n",
    "        initial_hor = random.randint(0, self.width)\n",
    "        \n",
    "        return speed_ver, speed_hor, initial_ver, initial_hor\n",
    "    \n",
    "    def get_trail(self, total_time_steps, trail_params):        \n",
    "        return two_dim(np.arange(total_time_steps), \n",
    "                       self.height, \n",
    "                       self.width, \n",
    "                       *trail_params)"
   ]
  },
  {
   "cell_type": "code",
   "execution_count": 7,
   "id": "e77723e3-084c-4611-8338-04b4df22e209",
   "metadata": {},
   "outputs": [],
   "source": [
    "def get_video(samples, trails,\n",
    "              block_height, \n",
    "              block_width,\n",
    "              frame_height, \n",
    "              frame_width):\n",
    "    \n",
    "    # generate the frames\n",
    "    frames = np.zeros((total_time_steps, frame_height, frame_width))\n",
    "    \n",
    "    for sample, trail in zip(samples, trails):\n",
    "        loc_ver, loc_hor = trail\n",
    "        for step in range(len(loc_ver)):\n",
    "            top, left = loc_ver[step], loc_hor[step]\n",
    "            frames[step][top : top + block_height, left : left + block_width] += sample\n",
    "    \n",
    "    frames = np.clip(frames, 0, 255.)\n",
    "    \n",
    "    return frames"
   ]
  },
  {
   "cell_type": "code",
   "execution_count": 8,
   "id": "e58e4647-4aba-48a5-a970-4d5b37e8d3f2",
   "metadata": {},
   "outputs": [
    {
     "name": "stderr",
     "output_type": "stream",
     "text": [
      "100%|███████████████████████████████████████████████████████████████████████████████████████████████████████████████████████████████████████████████████████████████████████████████████████████████████████████████████████████████████████████████████████████████████████████████████████████████████████████████████████████████████████████████| 100000/100000 [21:54<00:00, 76.06it/s]\n"
     ]
    }
   ],
   "source": [
    "num_videos = 100_000\n",
    "\n",
    "num_samples = 2\n",
    "\n",
    "block_height    = 28\n",
    "block_width     = 28\n",
    "frame_height    = 64 \n",
    "frame_width     = 64\n",
    "speed_ver_range = 5 \n",
    "speed_hor_range = 5\n",
    "\n",
    "total_time_steps = 50\n",
    "\n",
    "dataroot = Path('./dataset')\n",
    "split = 'train'\n",
    "dataset_path = dataroot/split\n",
    "dataset_path.mkdir(exist_ok=True)\n",
    "\n",
    "bt = BlockTrail(block_height    = block_height, \n",
    "                block_width     = block_width,\n",
    "                frame_height    = frame_height, \n",
    "                frame_width     = frame_width,\n",
    "                speed_ver_range = speed_ver_range, \n",
    "                speed_hor_range = speed_hor_range)\n",
    "\n",
    "for video_idx in tqdm(range(num_videos)):\n",
    "    \n",
    "    indices = random.choices(range(len(y_train)), k = num_samples)\n",
    "    \n",
    "    samples = x_train[indices]\n",
    "    \n",
    "    trail_params_list = [bt.gen_random_trail_params() \n",
    "                         for _ in range(num_samples)]\n",
    "    \n",
    "    trails = [bt.get_trail(total_time_steps, trail_params) \n",
    "              for trail_params in trail_params_list]\n",
    "    \n",
    "    video = get_video(samples, trails,\n",
    "                      block_height    = block_height, \n",
    "                      block_width     = block_width,\n",
    "                      frame_height    = frame_height, \n",
    "                      frame_width     = frame_width)\n",
    "    \n",
    "    label = [(y_train[indices[sample_idx]], ) + trail_params_list[sample_idx][:2] \n",
    "             for sample_idx in range(num_samples)]\n",
    "    \n",
    "    np.savez_compressed(dataset_path/f'sample_{video_idx}.npz', \n",
    "                        video = video, \n",
    "                        label = np.array(label))"
   ]
  },
  {
   "cell_type": "code",
   "execution_count": 31,
   "id": "494b23af-d2d1-4045-a085-af3db3e9e8af",
   "metadata": {},
   "outputs": [
    {
     "name": "stdout",
     "output_type": "stream",
     "text": [
      "[[ 9 -5  0]\n",
      " [ 8  5  5]]\n"
     ]
    },
    {
     "data": {
      "image/png": "[encoded data removed]",
      "text/plain": [
       "<Figure size 432x288 with 1 Axes>"
      ]
     },
     "metadata": {
      "needs_background": "light"
     },
     "output_type": "display_data"
    }
   ],
   "source": [
    "with np.load('dataset/train/sample_0.npz') as fh:\n",
    "    video = fh['video']\n",
    "    label = fh['label']\n",
    "    print(label)\n",
    "\n",
    "vmin, vmax = video.min(), video.max()\n",
    "\n",
    "fig = plt.figure()\n",
    "ims = []\n",
    "for i in range(len(video)):\n",
    "    im = plt.imshow(video[i], vmin=vmin, vmax=vmax)\n",
    "    ims.append([im])\n",
    "\n",
    "ani = ArtistAnimation(fig, ims, interval=500, blit=True, repeat_delay=1000)\n",
    "\n",
    "ani.save('moving_mnist_test.mp4')"
   ]
  },
  {
   "cell_type": "code",
   "execution_count": null,
   "id": "8b781eb9-6db5-42a2-a83d-42e05c7df242",
   "metadata": {},
   "outputs": [],
   "source": []
  }
 ],
 "metadata": {
  "kernelspec": {
   "display_name": "Python 3 (ipykernel)",
   "language": "python",
   "name": "python3"
  },
  "language_info": {
   "codemirror_mode": {
    "name": "ipython",
    "version": 3
   },
   "file_extension": ".py",
   "mimetype": "text/x-python",
   "name": "python",
   "nbconvert_exporter": "python",
   "pygments_lexer": "ipython3",
   "version": "3.11.4"
  }
 },
 "nbformat": 4,
 "nbformat_minor": 5
}
